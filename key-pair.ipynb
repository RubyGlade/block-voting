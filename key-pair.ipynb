{
 "cells": [
  {
   "cell_type": "code",
   "execution_count": 158,
   "metadata": {},
   "outputs": [],
   "source": [
    "import secrets\n",
    "import hashlib\n",
    "import string\n",
    "import torch\n",
    "import torchcsprng as csprng\n",
    "from random import SystemRandom\n",
    "from Crypto.Hash import keccak\n",
    "from coincurve import PublicKey"
   ]
  },
  {
   "cell_type": "code",
   "execution_count": 150,
   "metadata": {},
   "outputs": [
    {
     "name": "stdout",
     "output_type": "stream",
     "text": [
      "26a54d859003c49ea00384498c11dd9f3ec99d4b56b89b90662e6b16ea12bfbf\n",
      "64\n",
      "10011010100101010011011000010110010000000000111100010010011110101000000000001110000100010010011000110000010001110111011001111100111110110010011001110101001011010101101011100010011011100100000110011000101110011010110001011011101010000100101011111110111111\n"
     ]
    },
    {
     "data": {
      "text/plain": [
       "254"
      ]
     },
     "execution_count": 150,
     "metadata": {},
     "output_type": "execute_result"
    }
   ],
   "source": [
    "# experimentation cell for the Keccak hash (the hashing algorithm used by Ethereum)\n",
    "\n",
    "keccak_hash = keccak.new(digest_bits=256)\n",
    "keccak_hash.update(b'shit')\n",
    "print(keccak_hash.hexdigest())\n",
    "print(len(keccak_hash.hexdigest()))\n",
    "\n",
    "number = int(keccak_hash.hexdigest(), 16)\n",
    "print(bin(number)[2:])\n",
    "len(str(bin(number)[2:]))"
   ]
  },
  {
   "cell_type": "code",
   "execution_count": 9,
   "metadata": {},
   "outputs": [
    {
     "data": {
      "text/plain": [
       "[0, 1, 1, 2, 2, 2, 0, 2, 0, 1, 0, 2, 1, 2, 2, 1, 2, 0, 1, 2]"
      ]
     },
     "execution_count": 9,
     "metadata": {},
     "output_type": "execute_result"
    }
   ],
   "source": [
    "cryptogen = SystemRandom()\n",
    "[cryptogen.randrange(3) for i in range(20)] "
   ]
  },
  {
   "cell_type": "code",
   "execution_count": 10,
   "metadata": {},
   "outputs": [
    {
     "data": {
      "text/plain": [
       "[0.5278697827663787, 0.1379520183547709, 0.9124392586064667]"
      ]
     },
     "execution_count": 10,
     "metadata": {},
     "output_type": "execute_result"
    }
   ],
   "source": [
    "[cryptogen.random() for i in range(3)]"
   ]
  },
  {
   "cell_type": "code",
   "execution_count": 45,
   "metadata": {},
   "outputs": [],
   "source": [
    "# THIS SHOULD BE RUN ONLY ONCE PER ELECTION, BECAUSE IF THIS CHANGES, THE WHOLE ENCODING WILL CHANGE, AND ALL KEY PAIRS\n",
    "# WILL BECOME INVALID\n",
    "\n",
    "num1 = bin(secrets.randbelow(2**256))\n",
    "num2 = bin(secrets.randbelow(2**256))"
   ]
  },
  {
   "cell_type": "code",
   "execution_count": 151,
   "metadata": {},
   "outputs": [
    {
     "name": "stdout",
     "output_type": "stream",
     "text": [
      "658a345fa82544f8c5c442227bdefc69ebfab66fe82782acda7b64d13f729f12 7ed11e2ff3d789588865b6c0abc02947f1dd863293ab8d8d6d9f8cb9169c6355\n",
      "0110010110001010001101000101111110101000001001010100010011111000110001011100010001000010001000100111101111011110111111000110100111101011111110101011011001101111111010000010011110000010101011001101101001111011011001001101000100111111011100101001111100010010\n",
      "256\n",
      "0111111011010001000111100010111111110011110101111000100101011000100010000110010110110110110000001010101111000000001010010100011111110001110111011000011000110010100100111010101110001101100011010110110110011111100011001011100100010110100111000110001101010101\n",
      "256\n"
     ]
    }
   ],
   "source": [
    "# taking the hash of the random number\n",
    "hash_num1 = hashlib.sha256(b'num1')\n",
    "hashed1 = hash_num1.hexdigest()\n",
    "\n",
    "hash_num2 = hashlib.sha256(b'num2')\n",
    "hashed2 = hash_num2.hexdigest()\n",
    "print(hashed1, hashed2)\n",
    "\n",
    "# The hash is a string, so in order to change into a hex number, we add '0x' to it\n",
    "piece1_str = '0x' + (hashed1)\n",
    "piece2_str = '0x' + (hashed2)\n",
    "\n",
    "# converting the modified hash string into hex\n",
    "piece1_hex = int(piece1_str, 16)\n",
    "piece2_hex = int(piece2_str, 16)\n",
    "\n",
    "# now we take the binary representation of the hash\n",
    "piece1 = bin(piece1_hex)\n",
    "piece2 = bin(piece2_hex)\n",
    "\n",
    "# removing the '0b' from it\n",
    "str1 = str(piece1[2:])\n",
    "str2 = str(piece2[2:])\n",
    "\n",
    "# python rmeoves the leading zeroes in the binary representation, so we have to fill it with appropriate no. of zeroes to make\n",
    "# it 256 bits\n",
    "if len(str1) < 256:\n",
    "    str1 = '0'*(256-len(str1)) + str1\n",
    "if len(str2) < 256:\n",
    "    str2 = '0'*(256-len(str2)) + str2\n",
    "\n",
    "print(str1)\n",
    "print(len(str1))\n",
    "print(str2)\n",
    "print(len(str2))"
   ]
  },
  {
   "cell_type": "code",
   "execution_count": 152,
   "metadata": {},
   "outputs": [
    {
     "name": "stdout",
     "output_type": "stream",
     "text": [
      "01100101100010100011010001011111101010000010010101000100111110001100010111000100010000100010001001111011110111101111110001101001111010111111101010110110011011111110100000100111100000101010110011011010011110110110010011010001001111110111001010011111000100100111111011010001000111100010111111110011110101111000100101011000100010000110010110110110110000001010101111000000001010010100011111110001110111011000011000110010100100111010101110001101100011010110110110011111100011001011100100010110100111000110001101010101\n",
      "['01100101', '11001011', '10010110', '00101100', '01011000', '10110001', '01100010', '11000101', '10001010', '00010100', '00101000', '01010001', '10100011', '01000110', '10001101', '00011010', '00110100', '01101000', '11010001', '10100010', '01000101', '10001011', '00010111', '00101111', '01011111', '10111111', '01111110', '11111101', '11111010', '11110101', '11101010', '11010100', '10101000', '01010000', '10100000', '01000001', '10000010', '00000100', '00001001', '00010010', '00100101', '01001010', '10010101', '00101010', '01010100', '10101000', '01010001', '10100010', '01000100', '10001001', '00010011', '00100111', '01001111', '10011111', '00111110', '01111100', '11111000', '11110001', '11100011', '11000110', '10001100', '00011000', '00110001', '01100010']\n",
      "64\n"
     ]
    }
   ],
   "source": [
    "full_string = str1 + str2\n",
    "print(full_string)\n",
    "\n",
    "values = []\n",
    "for i in range(int(len(full_string)/8)):\n",
    "    values.append(full_string[i:i+8])\n",
    "\n",
    "print(values)\n",
    "print(len(values))\n",
    "    "
   ]
  },
  {
   "cell_type": "code",
   "execution_count": 153,
   "metadata": {},
   "outputs": [
    {
     "name": "stdout",
     "output_type": "stream",
     "text": [
      "37\n",
      "0123456789abcdefghijklmnopqrstuvwxyz_\n",
      "{'0': '01100101', '1': '11001011', '2': '10010110', '3': '00101100', '4': '01011000', '5': '10110001', '6': '01100010', '7': '11000101', '8': '10001010', '9': '00010100', 'a': '00101000', 'b': '01010001', 'c': '10100011', 'd': '01000110', 'e': '10001101', 'f': '00011010', 'g': '00110100', 'h': '01101000', 'i': '11010001', 'j': '10100010', 'k': '01000101', 'l': '10001011', 'm': '00010111', 'n': '00101111', 'o': '01011111', 'p': '10111111', 'q': '01111110', 'r': '11111101', 's': '11111010', 't': '11110101', 'u': '11101010', 'v': '11010100', 'w': '10101000', 'x': '01010000', 'y': '10100000', 'z': '01000001', '_': '10000010'}\n"
     ]
    }
   ],
   "source": [
    "cipher = {}\n",
    "char_set = '0123456789' + string.ascii_lowercase + '_'\n",
    "print(len(char_set))\n",
    "print(char_set)\n",
    "\n",
    "for alphabet, value in zip(char_set, values[0:37]):\n",
    "    cipher[alphabet] = value\n",
    "\n",
    "print(cipher)"
   ]
  },
  {
   "cell_type": "code",
   "execution_count": 154,
   "metadata": {},
   "outputs": [
    {
     "name": "stdout",
     "output_type": "stream",
     "text": [
      "0123456789abcdefghijklmnopqrstuvwxyzABCDEFGHIJKLMNOPQRSTUVWXYZ!\"#$%&'()*+,-./:;<=>?@[\\]^_`{|}~ \t\n",
      "\u000b\f\n",
      "100\n",
      "!\n"
     ]
    }
   ],
   "source": [
    "print(string.printable)\n",
    "print(len(string.printable))\n",
    "print(string.printable[62])"
   ]
  },
  {
   "cell_type": "code",
   "execution_count": 125,
   "metadata": {},
   "outputs": [
    {
     "name": "stdout",
     "output_type": "stream",
     "text": [
      "1101000111010001111101010001011110000010100101100110010110010110100101101000001000110100100011010010111111111010100011011010001110000010001011110010100010010110011001010101000101100101011001011100010100101000010100011010001101000110100011010001101000110100\n",
      "256\n",
      "<class 'str'>\n"
     ]
    }
   ],
   "source": [
    "def encode(college, year, election, Id):\n",
    "    \n",
    "    # so here is the function to create a number for the private key's seed\n",
    "    # we take the college, election name, year, and the roll number from the user (or from the college)\n",
    "\n",
    "    s1 = college + '_' + str(year) + '_' + election + '_' + Id\n",
    "\n",
    "    if len(s1) < 32:\n",
    "        s1 += string.ascii_lowercase[0: (32 - len(s1))]\n",
    "        \n",
    "    res = ''\n",
    "\n",
    "    for i in s1.lower():\n",
    "        res += cipher[i]\n",
    "\n",
    "    return res\n",
    "\n",
    "# This should have only 32 chracters, since our private key is 32 bytes long\n",
    "seed = encode('IITM', 2022, 'GENSEC', 'NA20B007')\n",
    "print(seed)\n",
    "print(len(str(seed)))\n",
    "print(type(seed))"
   ]
  },
  {
   "cell_type": "code",
   "execution_count": 164,
   "metadata": {},
   "outputs": [
    {
     "name": "stdout",
     "output_type": "stream",
     "text": [
      "0343f37cdaf07dd39b34437e71c3a8a958b413107cab8eb28ff7639cddf90380\n"
     ]
    },
    {
     "ename": "TypeError",
     "evalue": "initializer for ctype 'unsigned char *' must be a bytes or list or tuple, not str",
     "output_type": "error",
     "traceback": [
      "\u001b[1;31m---------------------------------------------------------------------------\u001b[0m",
      "\u001b[1;31mTypeError\u001b[0m                                 Traceback (most recent call last)",
      "\u001b[1;32m~\\AppData\\Local\\Temp/ipykernel_34656/1145082792.py\u001b[0m in \u001b[0;36m<module>\u001b[1;34m\u001b[0m\n\u001b[0;32m      9\u001b[0m \u001b[0mprivate_key\u001b[0m \u001b[1;33m=\u001b[0m \u001b[0mint\u001b[0m\u001b[1;33m(\u001b[0m\u001b[0mprivkey\u001b[0m\u001b[1;33m,\u001b[0m \u001b[1;36m16\u001b[0m\u001b[1;33m)\u001b[0m\u001b[1;33m\u001b[0m\u001b[1;33m\u001b[0m\u001b[0m\n\u001b[0;32m     10\u001b[0m \u001b[1;33m\u001b[0m\u001b[0m\n\u001b[1;32m---> 11\u001b[1;33m \u001b[0mpubkey\u001b[0m \u001b[1;33m=\u001b[0m \u001b[0mPublicKey\u001b[0m\u001b[1;33m.\u001b[0m\u001b[0mfrom_valid_secret\u001b[0m\u001b[1;33m(\u001b[0m\u001b[0mprivkey\u001b[0m\u001b[1;33m)\u001b[0m\u001b[1;33m.\u001b[0m\u001b[0mformat\u001b[0m\u001b[1;33m(\u001b[0m\u001b[0mcompressed\u001b[0m\u001b[1;33m=\u001b[0m\u001b[1;32mFalse\u001b[0m\u001b[1;33m)\u001b[0m\u001b[1;33m[\u001b[0m\u001b[1;36m1\u001b[0m\u001b[1;33m:\u001b[0m\u001b[1;33m]\u001b[0m\u001b[1;33m\u001b[0m\u001b[1;33m\u001b[0m\u001b[0m\n\u001b[0m",
      "\u001b[1;32mC:\\Python39\\lib\\site-packages\\coincurve\\keys.py\u001b[0m in \u001b[0;36mfrom_valid_secret\u001b[1;34m(cls, secret, context)\u001b[0m\n\u001b[0;32m    306\u001b[0m         \u001b[0mpublic_key\u001b[0m \u001b[1;33m=\u001b[0m \u001b[0mffi\u001b[0m\u001b[1;33m.\u001b[0m\u001b[0mnew\u001b[0m\u001b[1;33m(\u001b[0m\u001b[1;34m'secp256k1_pubkey *'\u001b[0m\u001b[1;33m)\u001b[0m\u001b[1;33m\u001b[0m\u001b[1;33m\u001b[0m\u001b[0m\n\u001b[0;32m    307\u001b[0m \u001b[1;33m\u001b[0m\u001b[0m\n\u001b[1;32m--> 308\u001b[1;33m         \u001b[0mcreated\u001b[0m \u001b[1;33m=\u001b[0m \u001b[0mlib\u001b[0m\u001b[1;33m.\u001b[0m\u001b[0msecp256k1_ec_pubkey_create\u001b[0m\u001b[1;33m(\u001b[0m\u001b[0mcontext\u001b[0m\u001b[1;33m.\u001b[0m\u001b[0mctx\u001b[0m\u001b[1;33m,\u001b[0m \u001b[0mpublic_key\u001b[0m\u001b[1;33m,\u001b[0m \u001b[0msecret\u001b[0m\u001b[1;33m)\u001b[0m\u001b[1;33m\u001b[0m\u001b[1;33m\u001b[0m\u001b[0m\n\u001b[0m\u001b[0;32m    309\u001b[0m \u001b[1;33m\u001b[0m\u001b[0m\n\u001b[0;32m    310\u001b[0m         \u001b[1;32mif\u001b[0m \u001b[1;32mnot\u001b[0m \u001b[0mcreated\u001b[0m\u001b[1;33m:\u001b[0m\u001b[1;33m\u001b[0m\u001b[1;33m\u001b[0m\u001b[0m\n",
      "\u001b[1;31mTypeError\u001b[0m: initializer for ctype 'unsigned char *' must be a bytes or list or tuple, not str"
     ]
    }
   ],
   "source": [
    "# now we have the seed for the private key, and we'll hash the seed to get the private key\n",
    "# we won't be seeing the private key, the website'll return it after the user has logged in with his LDAP cred\n",
    "# it'll return the private key, and it'll be a timed page, and will only be there for 10 secs\n",
    "\n",
    "priv_text = hashlib.sha256(seed.encode('utf-8'))\n",
    "privkey = priv_text.hexdigest()\n",
    "print(privkey)\n",
    "type(privkey)\n",
    "private_key = int(privkey, 16)\n",
    "\n",
    "#pubkey = PublicKey.from_valid_secret(privkey).format(compressed=False)[1:]\n"
   ]
  }
 ],
 "metadata": {
  "interpreter": {
   "hash": "63fd5069d213b44bf678585dea6b12cceca9941eaf7f819626cde1f2670de90d"
  },
  "kernelspec": {
   "display_name": "Python 3.9.6 64-bit",
   "language": "python",
   "name": "python3"
  },
  "language_info": {
   "codemirror_mode": {
    "name": "ipython",
    "version": 3
   },
   "file_extension": ".py",
   "mimetype": "text/x-python",
   "name": "python",
   "nbconvert_exporter": "python",
   "pygments_lexer": "ipython3",
   "version": "3.9.6"
  },
  "orig_nbformat": 4
 },
 "nbformat": 4,
 "nbformat_minor": 2
}
